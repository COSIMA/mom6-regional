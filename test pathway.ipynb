{
 "cells": [
  {
   "cell_type": "code",
   "execution_count": 1,
   "metadata": {},
   "outputs": [],
   "source": [
    "import numpy as np\n",
    "from itertools import cycle\n",
    "import os\n",
    "import dask.array as da\n",
    "import dask.bag as db\n",
    "import numpy as np\n",
    "import xarray as xr\n",
    "import xesmf as xe\n",
    "import subprocess\n",
    "from scipy.ndimage import binary_fill_holes\n",
    "from importlib import reload\n",
    "os.chdir(\"/home/149/ab8992/cosima_regional/mom6-regional-scripts\")\n",
    "import regional_library as ml"
   ]
  },
  {
   "attachments": {},
   "cell_type": "markdown",
   "metadata": {},
   "source": [
    "# Test run! See if we get a working model from the experiment class"
   ]
  },
  {
   "cell_type": "code",
   "execution_count": null,
   "metadata": {},
   "outputs": [],
   "source": [
    "xextent\n"
   ]
  },
  {
   "cell_type": "code",
   "execution_count": 7,
   "metadata": {},
   "outputs": [
    {
     "name": "stdout",
     "output_type": "stream",
     "text": [
      "FRE TOOLS: Make hgrid \n",
      "\n",
      " CompletedProcess(args=['/home/157/ahg157/repos/mom5/src/tools/make_hgrid/make_hgrid', '--grid_type', 'from_file', '--my_grid_file', 'grid.nc'], returncode=0)\n",
      "NOTE from make_solo_mosaic: there are 0 contacts (align-contact)\n",
      "congradulation: You have successfully run make_solo_mosaic\n",
      "FRE TOOLS: Make solo mosaic\n",
      "\n",
      "\n",
      "CompletedProcess(args=['/home/157/ahg157/repos/mom5/src/tools/make_solo_mosaic/make_solo_mosaic', '--num_tiles', '1', '--dir', '.', '--mosaic_name', 'ocean_mosaic', '--tile_file', 'hgrid.nc'], returncode=0)\n"
     ]
    },
    {
     "name": "stderr",
     "output_type": "stream",
     "text": [
      "ln: failed to create symbolic link '/home/149/ab8992/mom6_rundirs/test-pathway//inputdir/test-pathway': File exists\n",
      "ln: failed to create symbolic link '/scratch/v45/ab8992/mom6/regional_configs/test-pathway//rundir/test-pathway': File exists\n",
      "/g/data/hh5/public/apps/miniconda3/envs/analysis3-22.10/lib/python3.9/site-packages/xarray/core/dataarray.py:854: FutureWarning: elementwise comparison failed; returning scalar instead, but in the future will perform elementwise comparison\n",
      "  return key in self.data\n",
      "/g/data/hh5/public/apps/miniconda3/envs/analysis3-22.10/lib/python3.9/site-packages/xesmf/smm.py:130: UserWarning: Input array is not C_CONTIGUOUS. Will affect performance.\n",
      "  warnings.warn('Input array is not C_CONTIGUOUS. ' 'Will affect performance.')\n",
      "/g/data/hh5/public/apps/miniconda3/envs/analysis3-22.10/lib/python3.9/site-packages/xesmf/smm.py:130: UserWarning: Input array is not C_CONTIGUOUS. Will affect performance.\n",
      "  warnings.warn('Input array is not C_CONTIGUOUS. ' 'Will affect performance.')\n",
      "/g/data/hh5/public/apps/miniconda3/envs/analysis3-22.10/lib/python3.9/site-packages/xesmf/smm.py:130: UserWarning: Input array is not C_CONTIGUOUS. Will affect performance.\n",
      "  warnings.warn('Input array is not C_CONTIGUOUS. ' 'Will affect performance.')\n",
      "/g/data/hh5/public/apps/miniconda3/envs/analysis3-22.10/lib/python3.9/site-packages/xesmf/smm.py:130: UserWarning: Input array is not C_CONTIGUOUS. Will affect performance.\n",
      "  warnings.warn('Input array is not C_CONTIGUOUS. ' 'Will affect performance.')\n",
      "/g/data/hh5/public/apps/miniconda3/envs/analysis3-22.10/lib/python3.9/site-packages/xarray/core/dataarray.py:854: FutureWarning: elementwise comparison failed; returning scalar instead, but in the future will perform elementwise comparison\n",
      "  return key in self.data\n",
      "/g/data/hh5/public/apps/miniconda3/envs/analysis3-22.10/lib/python3.9/site-packages/xesmf/frontend.py:597: UserWarning: Using dimensions ('latitude', 'longitude') from data variable uo as the horizontal dimensions for the regridding.\n",
      "  warnings.warn(\n"
     ]
    },
    {
     "name": "stdout",
     "output_type": "stream",
     "text": [
      "depth coordinate just deleted:  depth\n",
      "[########################################] | 100% Completed | 102.18 ms\n"
     ]
    },
    {
     "name": "stderr",
     "output_type": "stream",
     "text": [
      "/g/data/hh5/public/apps/miniconda3/envs/analysis3-22.10/lib/python3.9/site-packages/xarray/core/dataarray.py:854: FutureWarning: elementwise comparison failed; returning scalar instead, but in the future will perform elementwise comparison\n",
      "  return key in self.data\n",
      "/g/data/hh5/public/apps/miniconda3/envs/analysis3-22.10/lib/python3.9/site-packages/xesmf/frontend.py:597: UserWarning: Using dimensions ('latitude', 'longitude') from data variable uo as the horizontal dimensions for the regridding.\n",
      "  warnings.warn(\n"
     ]
    },
    {
     "name": "stdout",
     "output_type": "stream",
     "text": [
      "depth coordinate just deleted:  depth\n",
      "[########################################] | 100% Completed | 102.64 ms\n"
     ]
    },
    {
     "name": "stderr",
     "output_type": "stream",
     "text": [
      "/g/data/hh5/public/apps/miniconda3/envs/analysis3-22.10/lib/python3.9/site-packages/xarray/core/dataarray.py:854: FutureWarning: elementwise comparison failed; returning scalar instead, but in the future will perform elementwise comparison\n",
      "  return key in self.data\n",
      "/g/data/hh5/public/apps/miniconda3/envs/analysis3-22.10/lib/python3.9/site-packages/xesmf/frontend.py:597: UserWarning: Using dimensions ('latitude', 'longitude') from data variable uo as the horizontal dimensions for the regridding.\n",
      "  warnings.warn(\n"
     ]
    },
    {
     "name": "stdout",
     "output_type": "stream",
     "text": [
      "depth coordinate just deleted:  depth\n",
      "[########################################] | 100% Completed | 102.98 ms\n"
     ]
    },
    {
     "name": "stderr",
     "output_type": "stream",
     "text": [
      "/g/data/hh5/public/apps/miniconda3/envs/analysis3-22.10/lib/python3.9/site-packages/xarray/core/dataarray.py:854: FutureWarning: elementwise comparison failed; returning scalar instead, but in the future will perform elementwise comparison\n",
      "  return key in self.data\n",
      "/g/data/hh5/public/apps/miniconda3/envs/analysis3-22.10/lib/python3.9/site-packages/xesmf/frontend.py:597: UserWarning: Using dimensions ('latitude', 'longitude') from data variable uo as the horizontal dimensions for the regridding.\n",
      "  warnings.warn(\n"
     ]
    },
    {
     "name": "stdout",
     "output_type": "stream",
     "text": [
      "depth coordinate just deleted:  depth\n",
      "[########################################] | 100% Completed | 102.36 ms\n",
      "[-48, -38.95]\n",
      "\n",
      "==>NOTE from get_boundary_type: x_boundary_type is solid_walls\n",
      "\n",
      "==>NOTE from get_boundary_type: y_boundary_type is solid_walls\n",
      "FRE TOOLS: make topog parallel\n",
      "\n",
      " CompletedProcess(args=['/g/data/v45/jr5971/FRE-NCtools/build3_up_MAXXGRID/tools/make_topog/make_topog_parallel', '--mosaic', 'ocean_mosaic.nc', '--topog_type', 'realistic', '--topog_file', 'bathy_original.nc', '--topog_field', 'elevation', '--scale_factor', '-1', '--output', 'topog_raw.nc'], returncode=0)\n"
     ]
    }
   ],
   "source": [
    "reload(ml)\n",
    "\n",
    "## Choose your coordinates and the name of your experiment\n",
    "yextent = [-48,-38.95]\n",
    "xextent = [-217 + 360, -210 + 360]\n",
    "expt_name = \"test-pathway\"\n",
    "\n",
    "pwd = \"$KQ%QqFxjSSbE2\"\n",
    "usr = \"abarnes\"\n",
    "\n",
    "\n",
    "daterange = [\"2015-01-01 00:00:00\", \"2015-01-31 00:00:00\"]\n",
    "\n",
    "## Place where all your input files go\n",
    "inputdir = f\"/scratch/v45/ab8992/mom6/regional_configs/{expt_name}/\"\n",
    "\n",
    "## Directory where you'll run the experiment from\n",
    "rundir = f\"/home/149/ab8992/mom6_rundirs/{expt_name}/\"\n",
    "\n",
    "## Directory where raw downloads go before processing\n",
    "tmpdir = f\"/scratch/v45/ab8992/reanalysis_tmp/reanalysis-small/\"\n",
    "\n",
    "## Directory where fre tools are stored\n",
    "toolpath = \"/home/157/ahg157/repos/mom5/src/tools/\" ## Compiled tools needed for construction of mask tables\n",
    "\n",
    "\n",
    "expt = ml.experiment(\n",
    "    xextent,\n",
    "    yextent,\n",
    "    0.0333,  ## Resolution\n",
    "    75,      ## #zlayers\n",
    "    20,       ## dz ratio\n",
    "    3000,    ## Max depth of ocean\n",
    "    rundir,\n",
    "    inputdir,\n",
    "    toolpath\n",
    ")\n",
    "\n",
    "a = expt.ocean_forcing(\n",
    "    tmpdir,  ## Path to ocean foring files\n",
    "    {\"time\":\"time\",\"y\":\"latitude\",\"x\":\"longitude\",\n",
    "     \"zl\":\"depth\",\"eta\":\"zos\",\"u\":\"uo\",\"v\":\"vo\",\n",
    "     \"tracers\":{\"salt\":\"so\",\"temp\":\"thetao\"}},\n",
    "    boundaries = [\"south\",\"north\",\"west\",\"east\"]\n",
    "    )\n",
    "\n",
    "expt.make_bathymetry(\n",
    "    '/g/data/ik11/inputs/GEBCO_2022/GEBCO_2022.nc',\n",
    "    {\"xh\":\"lon\",\"yh\":\"lat\",\"elevation\":\"elevation\"},\n",
    "    )\n"
   ]
  },
  {
   "cell_type": "code",
   "execution_count": 21,
   "metadata": {},
   "outputs": [
    {
     "data": {
      "text/plain": [
       "[<matplotlib.lines.Line2D at 0x14a135004be0>]"
      ]
     },
     "execution_count": 21,
     "metadata": {},
     "output_type": "execute_result"
    },
    {
     "data": {
      "image/png": "[encoded data removed]",
      "text/plain": [
       "<Figure size 640x480 with 1 Axes>"
      ]
     },
     "metadata": {},
     "output_type": "display_data"
    }
   ],
   "source": [
    "import matplotlib.pyplot as plt\n",
    "plt.plot(np.arange(expt.vgrid.zi.shape[0] - 1),expt.vgrid.diff(\"zi\").zi.values)"
   ]
  },
  {
   "attachments": {},
   "cell_type": "markdown",
   "metadata": {},
   "source": [
    "## Things to handle:\n",
    "* Forcing files that have negative longitudes. Should ensure that xextent always means the same thing\n",
    "* Have all of my compiled fre tools together in the same folder"
   ]
  },
  {
   "attachments": {},
   "cell_type": "markdown",
   "metadata": {},
   "source": [
    "## Below is stuff copied from the old notebook that's not in pipeline. \n",
    "* Runoff\n",
    "* Make mask\n",
    "* copy default run directory"
   ]
  },
  {
   "cell_type": "code",
   "execution_count": 6,
   "metadata": {},
   "outputs": [
    {
     "name": "stdout",
     "output_type": "stream",
     "text": [
      "NOTE from make_solo_mosaic: there are 0 contacts (align-contact)\n",
      "congradulation: You have successfully run make_solo_mosaic\n",
      "MAKE SOLO MOSAIC\n",
      "CompletedProcess(args=['/home/157/ahg157/repos/mom5/src/tools/make_solo_mosaic/make_solo_mosaic', '--num_tiles', '1', '--dir', '.', '--mosaic_name', 'ocean_mosaic', '--tile_file', 'hgrid.nc'], returncode=0)\n"
     ]
    }
   ],
   "source": [
    "\n",
    "args = \"--num_tiles 1 --dir . --mosaic_name ocean_mosaic --tile_file hgrid.nc\".split(\" \")\n",
    "\n",
    "print(\"MAKE SOLO MOSAIC\",subprocess.run([toolpath + \"make_solo_mosaic/make_solo_mosaic\"] + args,cwd = inputdir),sep = \"\\n\")\n"
   ]
  },
  {
   "cell_type": "code",
   "execution_count": 4,
   "metadata": {},
   "outputs": [
    {
     "name": "stdout",
     "output_type": "stream",
     "text": [
      "cp ./hgrid.nc hgrid.nc \n",
      "\n",
      "NOTE from make_coupler_mosaic: the ocean land/sea mask will be determined by field depth from file topog.nc\n",
      "mosaic_file is grid_spec.nc\n",
      "\n",
      "***** Congratulation! You have successfully run make_quick_mosaic\n",
      "QUICK MOSAIC\n",
      "CompletedProcess(args='/home/157/ahg157/repos/mom5/src/tools/make_quick_mosaic/make_quick_mosaic --input_mosaic ocean_mosaic.nc --mosaic_name grid_spec --ocean_topog topog.nc', returncode=0)\n"
     ]
    },
    {
     "name": "stderr",
     "output_type": "stream",
     "text": [
      "cp: './ocean_mosaic.nc' and 'ocean_mosaic.nc' are the same file\n",
      "cp: './hgrid.nc' and 'hgrid.nc' are the same file\n"
     ]
    }
   ],
   "source": [
    "args = \"--input_mosaic ocean_mosaic.nc --mosaic_name grid_spec --ocean_topog topog.nc\".split(\" \")\n",
    "\n",
    "print(\"QUICK MOSAIC\" , subprocess.run(\n",
    "    toolpath + \"make_quick_mosaic/make_quick_mosaic --input_mosaic ocean_mosaic.nc --mosaic_name grid_spec --ocean_topog topog.nc\",\n",
    "    shell=True\n",
    "    ,cwd = inputdir),sep = \"\\n\")"
   ]
  },
  {
   "cell_type": "code",
   "execution_count": 5,
   "metadata": {},
   "outputs": [
    {
     "name": "stdout",
     "output_type": "stream",
     "text": [
      "\n",
      " ===>NOTE from check_mask: when layout is specified, min_pe and max_pe is set to layout(1)*layout(2)=100\n",
      "\n",
      " ===>NOTE from check_mask: Below is the list of command line arguments.\n",
      "\n",
      "grid_file = ocean_mosaic.nc\n",
      "topog_file = topog.nc\n",
      "min_pe = 100\n",
      "max_pe = 100\n",
      "layout = 10, 10\n",
      "halo = 4\n",
      "sea_level = 0\n",
      "show_valid_only is not set\n",
      "nobc = 0\n",
      "\n",
      " ===>NOTE from check_mask: End of command line arguments.\n",
      "\n",
      " ===>NOTE from check_mask: the grid file is version 2 (mosaic grid) grid which contains field gridfiles\n",
      "\n",
      "==>NOTE from get_boundary_type: x_boundary_type is solid_walls\n",
      "\n",
      "==>NOTE from get_boundary_type: y_boundary_type is solid_walls\n",
      "\n",
      "==>NOTE from check_mask: Checking for possible masking:\n",
      "==>NOTE from check_mask: Assume 4 halo rows\n",
      "==>NOTE from check_mask: Total domain size is 210, 271\n",
      "\n",
      "_______________________________________________________________________\n",
      "\n",
      "NOTE from check_mask: The following is for using model source code with version older than siena_201207,\n",
      "Possible setting to mask out all-land points region, for use in coupler_nmlTotal number of domains = 100\n",
      "Number of tasks (excluded all-land region) to be used is 98\n",
      "Number of regions to be masked out = 2\n",
      "The layout is 10, 10\n",
      "Masked and used tasks, 1: used, 0: masked\n",
      "1111111111\n",
      "1111111111\n",
      "1111111111\n",
      "1111001111\n",
      "1111111111\n",
      "1111111111\n",
      "1111111111\n",
      "1111111111\n",
      "1111111111\n",
      "1111111111\n",
      " domain decomposition\n",
      "  21  21  21  21  21  21  21  21  21  21\n",
      "  28  27  27  27  27  27  27  27  27  27\n",
      " used=98, masked=2, layout=10,10\n",
      " To chose this mask layout please put the following lines in ocean_model_nml and/or ice_model_nml\n",
      " nmask = 2\n",
      "layout = 10, 10\n",
      "mask_list = 5,7,6,7\n",
      "\n",
      "\n",
      "_______________________________________________________________________\n",
      "\n",
      "NOTE from check_mask: The following is for using model source code with version siena_201207 or newer,\n",
      "                      specify ocean_model_nml/ice_model_nml/atmos_model_nml/land_model/nml \n",
      "                      variable mask_table with the mask_table created here.\n",
      "                      Also specify the layout variable in each namelist using corresponding layout\n",
      "\n",
      "***** Congratulation! You have successfully run check_mask\n",
      "CHECK MASK CompletedProcess(args='/home/157/ahg157/repos/mom5/src/tools/check_mask/check_mask --grid_file ocean_mosaic.nc --ocean_topog topog.nc --layout 10,10 --halo 4', returncode=0)\n"
     ]
    }
   ],
   "source": [
    "## I've set the layout to default to 10x10 cpus\n",
    "args = \"\".split(\" \")\n",
    "\n",
    "print(\"CHECK MASK\" , subprocess.run(toolpath + \"check_mask/check_mask --grid_file ocean_mosaic.nc --ocean_topog topog.nc --layout 10,10 --halo 4\",shell=True,cwd = inputdir))"
   ]
  },
  {
   "cell_type": "code",
   "execution_count": 8,
   "metadata": {},
   "outputs": [],
   "source": [
    "from regional_model_scripts import regrid_runoff\n",
    "runoff_path = \"/g/data/ik11/inputs/JRA-55/RYF/v1-3/RYF.runoff_all.1990_1991.nc\"\n",
    "\n",
    "regrid_runoff(inputdir + \"ocean_mask.nc\",\n",
    "    inputdir + \"hgrid.nc\",\n",
    "    runoff_path,\n",
    "    inputdir + \"runoff_regrid.nc\",\n",
    "    np.array(xextent) - np.array([180,180]),\n",
    "    yextent)"
   ]
  },
  {
   "cell_type": "code",
   "execution_count": 60,
   "metadata": {},
   "outputs": [
    {
     "data": {
      "text/plain": [
       "[143, 150]"
      ]
     },
     "execution_count": 60,
     "metadata": {},
     "output_type": "execute_result"
    }
   ],
   "source": [
    "xextent"
   ]
  },
  {
   "cell_type": "code",
   "execution_count": 63,
   "metadata": {},
   "outputs": [
    {
     "name": "stderr",
     "output_type": "stream",
     "text": [
      "ln: failed to create symbolic link '/home/149/ab8992/mom6_rundirs/test-pathway//inputdir/test-pathway': File exists\n"
     ]
    },
    {
     "data": {
      "text/plain": [
       "CompletedProcess(args='cp vcoord.nc /scratch/v45/ab8992/mom6/regional_configs/test-pathway/', returncode=0)"
      ]
     },
     "execution_count": 63,
     "metadata": {},
     "output_type": "execute_result"
    }
   ],
   "source": [
    "subprocess.run(f\"cp default_rundir/* {rundir}\",shell = True)\n",
    "subprocess.run(f\"ln -s {inputdir} {rundir}/inputdir\",shell=True)\n",
    "\n",
    "hgrid = xr.open_dataset(f\"{inputdir}/hgrid.nc\")\n",
    "\n",
    "## Get mask table information\n",
    "ncpus = 100\n",
    "mask_table = None\n",
    "for i in os.listdir(f\"{inputdir}\"):\n",
    "    if \"mask_table\" in i:\n",
    "        mask_table = i\n",
    "        a = mask_table.split(\".\")[1]\n",
    "        b = mask_table.split(\".\")[2].split(\"x\")\n",
    "        ncpus = int(b[0]) * int(b[1]) - int(a)\n",
    "\n",
    "\n",
    "## Modify MOM_input\n",
    "inputfile = open(f\"{rundir}/MOM_input\",'r')\n",
    "lines = inputfile.readlines()\n",
    "inputfile.close()\n",
    "for i in range(len(lines)):\n",
    "    if \"MASKTABLE\" in lines[i]:\n",
    "        if mask_table != None:\n",
    "            lines[i] = f'MASKTABLE = \"{mask_table}\"\\n'\n",
    "        else:\n",
    "            lines[i] = \"# MASKTABLE = no mask table\"\n",
    "    if \"NIGLOBAL\" in lines[i]: \n",
    "        # lines[i] = f\"NIGLOBAL = {str(x_indices_centre[1] - x_indices_centre[0])}\\n\"\n",
    "        lines[i] = f\"NIGLOBAL = {hgrid.nx.shape[0]//2}\\n\"\n",
    "\n",
    "        \n",
    "    if \"NJGLOBAL\" in lines[i]:\n",
    "        # lines[i] = f\"NJGLOBAL = {str(y_indices_centre[1] - y_indices_centre[0])}\\n\"\n",
    "        lines[i] = f\"NJGLOBAL = {hgrid.ny.shape[0]//2}\\n\"\n",
    "\n",
    "        \n",
    "inputfile = open(f\"{rundir}/MOM_input\",'w')\n",
    "\n",
    "inputfile.writelines(lines)\n",
    "inputfile.close()\n",
    "\n",
    "## Modify SIS_input\n",
    "inputfile = open(f\"{rundir}/SIS_input\",'r')\n",
    "lines = inputfile.readlines()\n",
    "inputfile.close()\n",
    "for i in range(len(lines)):\n",
    "    if \"MASKTABLE\" in lines[i]:\n",
    "        lines[i] = f'MASKTABLE = \"{mask_table}\"\\n'\n",
    "    if \"NIGLOBAL\" in lines[i]:\n",
    "        # lines[i] = f\"NIGLOBAL = {str(x_indices_centre[1] - x_indices_centre[0])}\\n\"\n",
    "        lines[i] = f\"NIGLOBAL = {hgrid.nx.shape[0]//2}\\n\"\n",
    "        \n",
    "    if \"NJGLOBAL\" in lines[i]:\n",
    "        # lines[i] = f\"NJGLOBAL = {str(y_indices_centre[1] - y_indices_centre[0])}\\n\"\n",
    "        lines[i] = f\"NJGLOBAL = {hgrid.ny.shape[0]//2}\\n\"\n",
    "        \n",
    "inputfile = open(f\"{rundir}/SIS_input\",'w')\n",
    "inputfile.writelines(lines)\n",
    "inputfile.close()\n",
    "\n",
    "## Modify config.yaml \n",
    "inputfile = open(f\"{rundir}/config.yaml\",'r')\n",
    "lines = inputfile.readlines()\n",
    "inputfile.close()\n",
    "for i in range(len(lines)):\n",
    "    if \"ncpus\" in lines[i]:\n",
    "        lines[i] = f'ncpus: {str(ncpus)}\\n'\n",
    "    if \"jobname\" in lines[i]:\n",
    "        lines[i] = f\"jobname: mom6_{expt_name}\\n\"\n",
    "        \n",
    "    if \"input:\" in lines[i]:\n",
    "        lines[i + 1] = f\"    - {inputdir}\\n\"\n",
    "        \n",
    "inputfile = open(f\"{rundir}/config.yaml\",'w')\n",
    "inputfile.writelines(lines)\n",
    "inputfile.close()\n",
    "\n",
    "subprocess.run(f\"cp vcoord.nc {inputdir}\",shell=True)"
   ]
  }
 ],
 "metadata": {
  "kernelspec": {
   "display_name": "Python [conda env:analysis3]",
   "language": "python",
   "name": "conda-env-analysis3-py"
  },
  "language_info": {
   "codemirror_mode": {
    "name": "ipython",
    "version": 3
   },
   "file_extension": ".py",
   "mimetype": "text/x-python",
   "name": "python",
   "nbconvert_exporter": "python",
   "pygments_lexer": "ipython3",
   "version": "3.9.15"
  },
  "orig_nbformat": 4
 },
 "nbformat": 4,
 "nbformat_minor": 2
}
