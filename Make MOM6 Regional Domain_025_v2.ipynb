{
 "cells": [
  {
   "cell_type": "code",
   "execution_count": 1,
   "id": "7c7b1c38-d719-4e25-bb73-c970c124f1d7",
   "metadata": {
    "tags": []
   },
   "outputs": [
    {
     "name": "stderr",
     "output_type": "stream",
     "text": [
      "/g/data/hh5/public/apps/miniconda3/envs/analysis3-22.01/lib/python3.9/site-packages/distributed/node.py:177: UserWarning: Port 8787 is already in use.\n",
      "Perhaps you already have a cluster running?\n",
      "Hosting the HTTP server on port 37667 instead\n",
      "  warnings.warn(\n"
     ]
    },
    {
     "data": {
      "text/html": [
       "<div>\n",
       "    <div style=\"width: 24px; height: 24px; background-color: #e1e1e1; border: 3px solid #9D9D9D; border-radius: 5px; position: absolute;\"> </div>\n",
       "    <div style=\"margin-left: 48px;\">\n",
       "        <h3 style=\"margin-bottom: 0px;\">Client</h3>\n",
       "        <p style=\"color: #9D9D9D; margin-bottom: 0px;\">Client-8af83e82-614d-11ed-9957-00000086fe80</p>\n",
       "        <table style=\"width: 100%; text-align: left;\">\n",
       "\n",
       "        <tr>\n",
       "        \n",
       "            <td style=\"text-align: left;\"><strong>Connection method:</strong> Cluster object</td>\n",
       "            <td style=\"text-align: left;\"><strong>Cluster type:</strong> distributed.LocalCluster</td>\n",
       "        \n",
       "        </tr>\n",
       "\n",
       "        \n",
       "            <tr>\n",
       "                <td style=\"text-align: left;\">\n",
       "                    <strong>Dashboard: </strong> <a href=\"/proxy/37667/status\" target=\"_blank\">/proxy/37667/status</a>\n",
       "                </td>\n",
       "                <td style=\"text-align: left;\"></td>\n",
       "            </tr>\n",
       "        \n",
       "\n",
       "        </table>\n",
       "\n",
       "        \n",
       "            <details>\n",
       "            <summary style=\"margin-bottom: 20px;\"><h3 style=\"display: inline;\">Cluster Info</h3></summary>\n",
       "            <div class=\"jp-RenderedHTMLCommon jp-RenderedHTML jp-mod-trusted jp-OutputArea-output\">\n",
       "    <div style=\"width: 24px; height: 24px; background-color: #e1e1e1; border: 3px solid #9D9D9D; border-radius: 5px; position: absolute;\">\n",
       "    </div>\n",
       "    <div style=\"margin-left: 48px;\">\n",
       "        <h3 style=\"margin-bottom: 0px; margin-top: 0px;\">LocalCluster</h3>\n",
       "        <p style=\"color: #9D9D9D; margin-bottom: 0px;\">c38f5904</p>\n",
       "        <table style=\"width: 100%; text-align: left;\">\n",
       "            <tr>\n",
       "                <td style=\"text-align: left;\">\n",
       "                    <strong>Dashboard:</strong> <a href=\"/proxy/37667/status\" target=\"_blank\">/proxy/37667/status</a>\n",
       "                </td>\n",
       "                <td style=\"text-align: left;\">\n",
       "                    <strong>Workers:</strong> 4\n",
       "                </td>\n",
       "            </tr>\n",
       "            <tr>\n",
       "                <td style=\"text-align: left;\">\n",
       "                    <strong>Total threads:</strong> 8\n",
       "                </td>\n",
       "                <td style=\"text-align: left;\">\n",
       "                    <strong>Total memory:</strong> 200.00 GiB\n",
       "                </td>\n",
       "            </tr>\n",
       "            \n",
       "            <tr>\n",
       "    <td style=\"text-align: left;\"><strong>Status:</strong> running</td>\n",
       "    <td style=\"text-align: left;\"><strong>Using processes:</strong> True</td>\n",
       "</tr>\n",
       "\n",
       "            \n",
       "        </table>\n",
       "\n",
       "        <details>\n",
       "            <summary style=\"margin-bottom: 20px;\">\n",
       "                <h3 style=\"display: inline;\">Scheduler Info</h3>\n",
       "            </summary>\n",
       "\n",
       "            <div style=\"\">\n",
       "    <div>\n",
       "        <div style=\"width: 24px; height: 24px; background-color: #FFF7E5; border: 3px solid #FF6132; border-radius: 5px; position: absolute;\"> </div>\n",
       "        <div style=\"margin-left: 48px;\">\n",
       "            <h3 style=\"margin-bottom: 0px;\">Scheduler</h3>\n",
       "            <p style=\"color: #9D9D9D; margin-bottom: 0px;\">Scheduler-b17f079f-4c60-478f-aa8a-3c2fd7e48d0f</p>\n",
       "            <table style=\"width: 100%; text-align: left;\">\n",
       "                <tr>\n",
       "                    <td style=\"text-align: left;\">\n",
       "                        <strong>Comm:</strong> tcp://127.0.0.1:46157\n",
       "                    </td>\n",
       "                    <td style=\"text-align: left;\">\n",
       "                        <strong>Workers:</strong> 4\n",
       "                    </td>\n",
       "                </tr>\n",
       "                <tr>\n",
       "                    <td style=\"text-align: left;\">\n",
       "                        <strong>Dashboard:</strong> <a href=\"/proxy/37667/status\" target=\"_blank\">/proxy/37667/status</a>\n",
       "                    </td>\n",
       "                    <td style=\"text-align: left;\">\n",
       "                        <strong>Total threads:</strong> 8\n",
       "                    </td>\n",
       "                </tr>\n",
       "                <tr>\n",
       "                    <td style=\"text-align: left;\">\n",
       "                        <strong>Started:</strong> Just now\n",
       "                    </td>\n",
       "                    <td style=\"text-align: left;\">\n",
       "                        <strong>Total memory:</strong> 200.00 GiB\n",
       "                    </td>\n",
       "                </tr>\n",
       "            </table>\n",
       "        </div>\n",
       "    </div>\n",
       "\n",
       "    <details style=\"margin-left: 48px;\">\n",
       "        <summary style=\"margin-bottom: 20px;\">\n",
       "            <h3 style=\"display: inline;\">Workers</h3>\n",
       "        </summary>\n",
       "\n",
       "        \n",
       "        <div style=\"margin-bottom: 20px;\">\n",
       "            <div style=\"width: 24px; height: 24px; background-color: #DBF5FF; border: 3px solid #4CC9FF; border-radius: 5px; position: absolute;\"> </div>\n",
       "            <div style=\"margin-left: 48px;\">\n",
       "            <details>\n",
       "                <summary>\n",
       "                    <h4 style=\"margin-bottom: 0px; display: inline;\">Worker: 0</h4>\n",
       "                </summary>\n",
       "                <table style=\"width: 100%; text-align: left;\">\n",
       "                    <tr>\n",
       "                        <td style=\"text-align: left;\">\n",
       "                            <strong>Comm: </strong> tcp://127.0.0.1:33185\n",
       "                        </td>\n",
       "                        <td style=\"text-align: left;\">\n",
       "                            <strong>Total threads: </strong> 2\n",
       "                        </td>\n",
       "                    </tr>\n",
       "                    <tr>\n",
       "                        <td style=\"text-align: left;\">\n",
       "                            <strong>Dashboard: </strong> <a href=\"/proxy/33161/status\" target=\"_blank\">/proxy/33161/status</a>\n",
       "                        </td>\n",
       "                        <td style=\"text-align: left;\">\n",
       "                            <strong>Memory: </strong> 50.00 GiB\n",
       "                        </td>\n",
       "                    </tr>\n",
       "                    <tr>\n",
       "                        <td style=\"text-align: left;\">\n",
       "                            <strong>Nanny: </strong> tcp://127.0.0.1:42659\n",
       "                        </td>\n",
       "                        <td style=\"text-align: left;\"></td>\n",
       "                    </tr>\n",
       "                    <tr>\n",
       "                        <td colspan=\"2\" style=\"text-align: left;\">\n",
       "                            <strong>Local directory: </strong> /jobfs/63296428.gadi-pbs/dask-worker-space/worker-sfa8ei2u\n",
       "                        </td>\n",
       "                    </tr>\n",
       "\n",
       "                    \n",
       "\n",
       "                    \n",
       "\n",
       "                </table>\n",
       "            </details>\n",
       "            </div>\n",
       "        </div>\n",
       "        \n",
       "        <div style=\"margin-bottom: 20px;\">\n",
       "            <div style=\"width: 24px; height: 24px; background-color: #DBF5FF; border: 3px solid #4CC9FF; border-radius: 5px; position: absolute;\"> </div>\n",
       "            <div style=\"margin-left: 48px;\">\n",
       "            <details>\n",
       "                <summary>\n",
       "                    <h4 style=\"margin-bottom: 0px; display: inline;\">Worker: 1</h4>\n",
       "                </summary>\n",
       "                <table style=\"width: 100%; text-align: left;\">\n",
       "                    <tr>\n",
       "                        <td style=\"text-align: left;\">\n",
       "                            <strong>Comm: </strong> tcp://127.0.0.1:43129\n",
       "                        </td>\n",
       "                        <td style=\"text-align: left;\">\n",
       "                            <strong>Total threads: </strong> 2\n",
       "                        </td>\n",
       "                    </tr>\n",
       "                    <tr>\n",
       "                        <td style=\"text-align: left;\">\n",
       "                            <strong>Dashboard: </strong> <a href=\"/proxy/43553/status\" target=\"_blank\">/proxy/43553/status</a>\n",
       "                        </td>\n",
       "                        <td style=\"text-align: left;\">\n",
       "                            <strong>Memory: </strong> 50.00 GiB\n",
       "                        </td>\n",
       "                    </tr>\n",
       "                    <tr>\n",
       "                        <td style=\"text-align: left;\">\n",
       "                            <strong>Nanny: </strong> tcp://127.0.0.1:45919\n",
       "                        </td>\n",
       "                        <td style=\"text-align: left;\"></td>\n",
       "                    </tr>\n",
       "                    <tr>\n",
       "                        <td colspan=\"2\" style=\"text-align: left;\">\n",
       "                            <strong>Local directory: </strong> /jobfs/63296428.gadi-pbs/dask-worker-space/worker-fu25kv6x\n",
       "                        </td>\n",
       "                    </tr>\n",
       "\n",
       "                    \n",
       "\n",
       "                    \n",
       "\n",
       "                </table>\n",
       "            </details>\n",
       "            </div>\n",
       "        </div>\n",
       "        \n",
       "        <div style=\"margin-bottom: 20px;\">\n",
       "            <div style=\"width: 24px; height: 24px; background-color: #DBF5FF; border: 3px solid #4CC9FF; border-radius: 5px; position: absolute;\"> </div>\n",
       "            <div style=\"margin-left: 48px;\">\n",
       "            <details>\n",
       "                <summary>\n",
       "                    <h4 style=\"margin-bottom: 0px; display: inline;\">Worker: 2</h4>\n",
       "                </summary>\n",
       "                <table style=\"width: 100%; text-align: left;\">\n",
       "                    <tr>\n",
       "                        <td style=\"text-align: left;\">\n",
       "                            <strong>Comm: </strong> tcp://127.0.0.1:43851\n",
       "                        </td>\n",
       "                        <td style=\"text-align: left;\">\n",
       "                            <strong>Total threads: </strong> 2\n",
       "                        </td>\n",
       "                    </tr>\n",
       "                    <tr>\n",
       "                        <td style=\"text-align: left;\">\n",
       "                            <strong>Dashboard: </strong> <a href=\"/proxy/43371/status\" target=\"_blank\">/proxy/43371/status</a>\n",
       "                        </td>\n",
       "                        <td style=\"text-align: left;\">\n",
       "                            <strong>Memory: </strong> 50.00 GiB\n",
       "                        </td>\n",
       "                    </tr>\n",
       "                    <tr>\n",
       "                        <td style=\"text-align: left;\">\n",
       "                            <strong>Nanny: </strong> tcp://127.0.0.1:37543\n",
       "                        </td>\n",
       "                        <td style=\"text-align: left;\"></td>\n",
       "                    </tr>\n",
       "                    <tr>\n",
       "                        <td colspan=\"2\" style=\"text-align: left;\">\n",
       "                            <strong>Local directory: </strong> /jobfs/63296428.gadi-pbs/dask-worker-space/worker-svdi_44z\n",
       "                        </td>\n",
       "                    </tr>\n",
       "\n",
       "                    \n",
       "\n",
       "                    \n",
       "\n",
       "                </table>\n",
       "            </details>\n",
       "            </div>\n",
       "        </div>\n",
       "        \n",
       "        <div style=\"margin-bottom: 20px;\">\n",
       "            <div style=\"width: 24px; height: 24px; background-color: #DBF5FF; border: 3px solid #4CC9FF; border-radius: 5px; position: absolute;\"> </div>\n",
       "            <div style=\"margin-left: 48px;\">\n",
       "            <details>\n",
       "                <summary>\n",
       "                    <h4 style=\"margin-bottom: 0px; display: inline;\">Worker: 3</h4>\n",
       "                </summary>\n",
       "                <table style=\"width: 100%; text-align: left;\">\n",
       "                    <tr>\n",
       "                        <td style=\"text-align: left;\">\n",
       "                            <strong>Comm: </strong> tcp://127.0.0.1:35817\n",
       "                        </td>\n",
       "                        <td style=\"text-align: left;\">\n",
       "                            <strong>Total threads: </strong> 2\n",
       "                        </td>\n",
       "                    </tr>\n",
       "                    <tr>\n",
       "                        <td style=\"text-align: left;\">\n",
       "                            <strong>Dashboard: </strong> <a href=\"/proxy/36341/status\" target=\"_blank\">/proxy/36341/status</a>\n",
       "                        </td>\n",
       "                        <td style=\"text-align: left;\">\n",
       "                            <strong>Memory: </strong> 50.00 GiB\n",
       "                        </td>\n",
       "                    </tr>\n",
       "                    <tr>\n",
       "                        <td style=\"text-align: left;\">\n",
       "                            <strong>Nanny: </strong> tcp://127.0.0.1:35609\n",
       "                        </td>\n",
       "                        <td style=\"text-align: left;\"></td>\n",
       "                    </tr>\n",
       "                    <tr>\n",
       "                        <td colspan=\"2\" style=\"text-align: left;\">\n",
       "                            <strong>Local directory: </strong> /jobfs/63296428.gadi-pbs/dask-worker-space/worker-ufw8_twf\n",
       "                        </td>\n",
       "                    </tr>\n",
       "\n",
       "                    \n",
       "\n",
       "                    \n",
       "\n",
       "                </table>\n",
       "            </details>\n",
       "            </div>\n",
       "        </div>\n",
       "        \n",
       "\n",
       "    </details>\n",
       "</div>\n",
       "\n",
       "        </details>\n",
       "    </div>\n",
       "</div>\n",
       "            </details>\n",
       "        \n",
       "\n",
       "    </div>\n",
       "</div>"
      ],
      "text/plain": [
       "<Client: 'tcp://127.0.0.1:46157' processes=4 threads=8, memory=200.00 GiB>"
      ]
     },
     "execution_count": 1,
     "metadata": {},
     "output_type": "execute_result"
    }
   ],
   "source": [
    "import netCDF4\n",
    "import xarray as xr\n",
    "import xesmf as xe\n",
    "from itertools import cycle\n",
    "import os\n",
    "import dask\n",
    "import numpy as np\n",
    "import pandas as pd\n",
    "import dask.array as da\n",
    "import dask.bag as db\n",
    "from pykdtree.kdtree import KDTree\n",
    "from dask.diagnostics import ProgressBar\n",
    "import subprocess\n",
    "import matplotlib.pyplot as plt\n",
    "\n",
    "\n",
    "# Import scripts\n",
    "from regional_model_scripts import input_datasets, interp_segment,prepare_segments, time_rotate,regrid_runoff,sel_hgrid_indices\n",
    "from boundary_tides import write_tpxo\n",
    "\n",
    "om2path = \"/g/data/ik11/inputs/access-om2/input_08022019/mom_025deg/\" #\"/g/data/ik11/inputs/access-om2/input_08022019/mom_01deg/\" ## Access om2_01 input for topography and hgrid\n",
    "\n",
    "initpath = \"/g/data/ik11/outputs/access-om2-01/01deg_jra55v13_ryf9091/output1077\" ## Access om2_01 output for BCs and IC ... not same as start of PanAn output624daily data is gone\n",
    "\n",
    "#use the BCs and ICs from the PanAn-01\n",
    "#initpath = \"/g/data/ik11/inputs/mom6/panan-01/forcing/forcing_obc.nc\"\n",
    "\n",
    "toolpath = \"/g/data/v45/pas561/mom_code/mom5/tools/\" #\"/g/data/v45/ahg157/tools/\"#\"/home/157/ahg157/repos/mom5/src/tools/\" ## Compiled tools needed for construction of mask tables\n",
    "    \n",
    "xr.set_options(keep_attrs=True) ## This ensures that performing simple operations with xarray (eg converting temperature to Celsius) preserves attributes\n",
    "\n",
    "from dask.distributed import Client\n",
    "client = Client()\n",
    "client"
   ]
  },
  {
   "cell_type": "markdown",
   "id": "dbd34e0b-c443-4d11-8c64-2557d96d7b74",
   "metadata": {},
   "source": [
    "# What this notebook does:\n",
    "\n",
    "Given a choice of lat / lon coordinates, a hgrid is built from an existing access om2_01 global run. Then, all of the other required input files are interpolated onto this hgrid, and Angus Gibson's 'Brushcutter' creates files for boundary files. It also sets up the mask tables and regrids the runoff, sorting out everything you need to run the experiment.\n",
    "\n",
    "An input directory is copied into the 'rundir' you choose, and a couple of files are automatically modified based on your experiment. As longs as you don't change your default layout, you\n",
    "\n",
    "# What's still to do:\n",
    "\n",
    "* Test whether this setup works for a pan-antarctic style domain. In that case you'd need to set REENTRANT_X = True in MOM_input. Otherwise there might be some other things that need changing to ensure that the input files wrap around properly\n",
    "* Automate the procedure for changing the resolution. I think this can be done by constructing a new hgrid of whatever resolution, then interpolating everything else onto it as before. Would require reading in a high resolution topography, but otherwise could use the access om2-01 forcing at boundary and initially\n",
    "* Handle the case where you want to look at a domain that straddles the 'seam' in longitude coordinate at -180.\n",
    "\n",
    "# Troubleshooting:\n",
    "* You can get some really weird errors if there are little bays trapped on your boundaries. Try to either avoid this, or fill them in manually if they appear. This is what I was getting: \n",
    "\n",
    "\"FATAL from PE    56: MOM_regridding: adjust_interface_motion() - implied h<0 is larger than roundoff!\"\n",
    "\n",
    "* If you alter the remapping code, be sure to check that your netcdf files have sensible attributes. You can check yours against a working model by ensuring your attributes match with /scratch/v45/ab8992/mom6/regional_configs/ttide-new/"
   ]
  },
  {
   "cell_type": "markdown",
   "id": "a5f4c236-e55d-4d00-9207-0353772bb814",
   "metadata": {},
   "source": [
    "## Choose your Domain, and set path to your input and run directories"
   ]
  },
  {
   "cell_type": "code",
   "execution_count": 2,
   "id": "6b814735-26c1-4bae-b734-06cc79e71753",
   "metadata": {},
   "outputs": [],
   "source": [
    "\n",
    "## Choose your coordinates and the name of your experiment\n",
    "yextent = [-90,-37]\n",
    "xextent = [-280, 80]\n",
    "expt_name = \"test_domain\"\n",
    "\n",
    "## Place where all your input files go\n",
    "path = f\"/g/data/jk72/pas561/mom6/mom6-025-panan_\"\n",
    "\n",
    "## Directory where you'll run the experiment from\n",
    "rundir = f\"/home/561/pas561/mom6/mom6-025-panan\"\n",
    "\n",
    "for i in [path,rundir]:\n",
    "    try:\n",
    "        os.mkdir(i)\n",
    "    except:\n",
    "        pass\n",
    "\n",
    "#if \"temp\" not in os.listdir(path):\n",
    "#    os.mkdir(path + \"temp\")\n",
    "#if \"weights\" not in os.listdir(path):\n",
    "#    os.mkdir(path + \"weights\")\n",
    "#if \"forcing\" not in os.listdir(path):\n",
    "#    os.mkdir(path + \"forcing\")\n",
    "\n",
    "\n",
    "#fail here\n",
    "#full_domain = xr.open_dataset(f\"{initpath}/ocean/ocean_daily.nc\")\n",
    "\n",
    "# domain.tau_x.sel(yu_ocean=slice(-49, -5), xu_ocean=slice(-217, -183)).isel(time = 0).plot()\n",
    "#domain = full_domain.surface_temp.sel(yt_ocean=slice(yextent[0], yextent[1]), xt_ocean=slice(xextent[0],xextent[1])).isel(time = 0)\n",
    "#fig,ax = plt.subplots(1,figsize = (10,10))\n",
    "\n",
    "#domain.plot(ax = ax)\n",
    "#ax.set_title(f\"{expt_name} domain\")"
   ]
  },
  {
   "cell_type": "markdown",
   "id": "b651846a-d772-47d7-8808-bda27b7eb3b3",
   "metadata": {},
   "source": [
    "# Step by step procedure to set up experiment"
   ]
  },
  {
   "cell_type": "markdown",
   "id": "39149e88-c9ff-421e-ba16-824e502da083",
   "metadata": {},
   "source": [
    "## 1. Find the indices of the hgrid that we need based on the lat/lon chosen above"
   ]
  },
  {
   "cell_type": "code",
   "execution_count": 3,
   "id": "096b9d1c-d917-453a-b8a1-f269c5738cb4",
   "metadata": {
    "tags": []
   },
   "outputs": [],
   "source": [
    "hgrid = xr.open_dataset(om2path + \"ocean_hgrid.nc\")\n",
    "\n",
    "x_indices_hgrid = np.array([0,2881]) #sel_hgrid_indices(hgrid.x.isel(nyp = 100,nxp = slice(0,None,2)),xextent)  ## As long as it's away from the north pole things are ok since lon doesn't vary with lat\n",
    "y_indices_hgrid = sel_hgrid_indices(hgrid.y.isel(nxp = 0,nyp = slice(0,None,2)),yextent) \n",
    "\n",
    "encoding = {'x': {'_FillValue': None},\n",
    "            'y': {'_FillValue': None},\n",
    "            \"dx\": {\"_FillValue\": None},\n",
    "            'dy': {'_FillValue': None},\n",
    "            'angle_dx': {'_FillValue': None},\n",
    "            'area': {'_FillValue': None}\n",
    "            }  \n",
    "\n",
    "hgrid_new = hgrid.isel(\n",
    "    nyp = slice(y_indices_hgrid[0] , y_indices_hgrid[1] ),\n",
    "    nxp = slice(x_indices_hgrid[0] , x_indices_hgrid[1] ),\n",
    "    ny = slice(y_indices_hgrid[0] , y_indices_hgrid[1] - 1 ),\n",
    "    nx = slice(x_indices_hgrid[0] , x_indices_hgrid[1] - 1 ))\n",
    "\n",
    "hgrid_new.to_netcdf(path + \"hgrid.nc\",mode = \"w\",encoding = encoding)"
   ]
  },
  {
   "cell_type": "code",
   "execution_count": 4,
   "id": "446e4b54-63b5-4f6e-b639-35fc3f76d079",
   "metadata": {},
   "outputs": [
    {
     "data": {
      "text/plain": [
       "array([  0, 677])"
      ]
     },
     "execution_count": 4,
     "metadata": {},
     "output_type": "execute_result"
    }
   ],
   "source": [
    "y_indices_hgrid"
   ]
  },
  {
   "cell_type": "code",
   "execution_count": 5,
   "id": "c086df4e-917d-4f41-8a5b-93fa0018299e",
   "metadata": {},
   "outputs": [
    {
     "data": {
      "text/plain": [
       "array([   0, 2881])"
      ]
     },
     "execution_count": 5,
     "metadata": {},
     "output_type": "execute_result"
    }
   ],
   "source": [
    "x_indices_hgrid"
   ]
  },
  {
   "cell_type": "markdown",
   "id": "4ac9921f-ed87-4fca-ac20-298e5325f34b",
   "metadata": {},
   "source": [
    "## 2. Cut out the initial condition velocities and interpolate onto the cgrid\n",
    "\n",
    "Here we can use the normal xarray select tool to get the initial velocities. This is set by default to be at time=30, as this is how Angus set things up. \n",
    "\n",
    "The horizontal coordinates are a bit of a mess. Initially, the mom5 data uses xu_ocean,xt_ocean etc. In MOM6, yh,xq etc are used. Here, they're renamed to \"lat/lon\" for the regridder. Afterwards, the velocities are named in the \"xh,yq\" convention, but the tracers aren't. This is to be consistent with Angus' example EAC configuration. I suspect there would be no issue renaming the coordinates consistently if the relevent MOM files were altered to match. \n",
    "\n",
    "Note also that the \"encoding\" parameters are needed to overwrite xarray's default values. xr will put in its own NaNs as the _FillVallue which aren't compatible with MOM6"
   ]
  },
  {
   "cell_type": "code",
   "execution_count": 7,
   "id": "3dd34da4-5bcc-4a38-8a6e-d674ab45e195",
   "metadata": {
    "tags": []
   },
   "outputs": [],
   "source": [
    "initpath = \"/g/data/ik11/outputs/access-om2-01/01deg_jra55v13_ryf9091/output1077\" ## Access om2_01 output for BCs and IC ... not same as start of PanAn output624daily data is gone\n",
    "\n",
    "## pull out the initial velocity on MOM5's Bgrid\n",
    "u_init_bgrid = xr.open_dataset(f\"{initpath}/ocean/ocean_daily_3d_u.nc\").u.rename({\"xu_ocean\": \"lon\", \"yu_ocean\": \"lat\"}).sel(\n",
    "    lon = slice(xextent[0],xextent[1]),lat = slice(yextent[0],yextent[1])).isel(time = 30)\n",
    "v_init_bgrid = xr.open_dataset(f\"{initpath}/ocean/ocean_daily_3d_v.nc\").v.rename({\"xu_ocean\": \"lon\", \"yu_ocean\": \"lat\"}).sel(\n",
    "    lon = slice(xextent[0],xextent[1]),lat = slice(yextent[0],yextent[1])).isel(time = 30)\n",
    "\n",
    "## Pull out the surface height, temp and salinity initial conds\n",
    "temperature = xr.open_dataset(f\"{initpath}/ocean/ocean_daily_3d_temp.nc\").temp.isel(time = 30).sel(\n",
    "    yt_ocean = slice(yextent[0],yextent[1]),xt_ocean = slice(xextent[0],xextent[1]))  - 273.15## Convert to Celcius for MOM6!\n",
    "salt = xr.open_dataset(f\"{initpath}/ocean/ocean_daily_3d_salt.nc\").salt.isel(time = 30).sel(\n",
    "    yt_ocean = slice(yextent[0],yextent[1]),xt_ocean = slice(xextent[0],xextent[1]))\n",
    "\n",
    "## Merge tracer ICs together\n",
    "init_cond = xr.merge([temperature,salt]).drop_vars(\"time\").rename({\"xt_ocean\": \"lon\", \"yt_ocean\": \"lat\"})\n",
    "\n",
    "init_eta = xr.open_dataset(f\"{initpath}/ocean/ocean_daily.nc\").isel(time = 30).sel(\n",
    "    yt_ocean = slice(yextent[0],yextent[1]),xt_ocean = slice(xextent[0],xextent[1])).rename({\"xt_ocean\": \"lon\", \"yt_ocean\": \"lat\"})\n",
    "\n",
    "\n",
    "## Construct the xq,yh and xh yq grids\n",
    "ugrid = hgrid_new[[\"x\",\"y\"]].isel(nxp=slice(None, None, 2), nyp=slice(1, None, 2)).rename({\"x\": \"lon\", \"y\": \"lat\"})\n",
    "vgrid = hgrid_new[[\"x\",\"y\"]].isel(nxp=slice(1, None, 2), nyp=slice(None, None, 2)).rename({\"x\": \"lon\", \"y\": \"lat\"})\n",
    "\n",
    "## Construct the cell centre grid for tracers (xh,yh). \n",
    "tgrid = xr.Dataset(\n",
    "    {\"lon\":([\"lon\"],hgrid_new.x.isel(nxp=slice(1, None, 2), nyp=1).values),\n",
    "     \"lat\":([\"lat\"],hgrid_new.y.isel(nxp=1, nyp=slice(1, None, 2)).values)\n",
    "            }\n",
    ")"
   ]
  },
  {
   "cell_type": "code",
   "execution_count": 18,
   "id": "37bdaa50-d3e7-419e-9c9a-940f261cebfa",
   "metadata": {},
   "outputs": [
    {
     "data": {
      "text/plain": [
       "[<matplotlib.lines.Line2D at 0x1460b0ee6e80>]"
      ]
     },
     "execution_count": 18,
     "metadata": {},
     "output_type": "execute_result"
    },
    {
     "data": {
      "image/png": "[encoded data removed]",
      "text/plain": [
       "<Figure size 432x288 with 1 Axes>"
      ]
     },
     "metadata": {
      "needs_background": "light"
     },
     "output_type": "display_data"
    }
   ],
   "source": [
    "u_init_bgrid.lon.plot()"
   ]
  },
  {
   "cell_type": "code",
   "execution_count": 19,
   "id": "1ad51b16-5fc6-4a1a-bba9-bae48e844650",
   "metadata": {
    "tags": []
   },
   "outputs": [
    {
     "name": "stdout",
     "output_type": "stream",
     "text": [
      "Coordinates:\n",
      "  * st_ocean  (st_ocean) float64 0.5413 1.681 2.94 ... 5.511e+03 5.709e+03\n",
      "    time      object 2170-05-01 12:00:00\n",
      "    lon       (nyp, nxp) float64 -280.0 -279.8 -279.5 -279.2 ... 79.5 79.75 80.0\n",
      "    lat       (nyp, nxp) float64 -81.08 -81.08 -81.08 ... -37.2 -37.2 -37.2\n",
      "Coordinates:\n",
      "  * st_ocean  (st_ocean) float64 0.5413 1.681 2.94 ... 5.511e+03 5.709e+03\n",
      "    time      object 2170-05-01 12:00:00\n",
      "    xq        (ny, nxp) float64 -280.0 -279.8 -279.5 -279.2 ... 79.5 79.75 80.0\n",
      "    yh        (ny, nxp) float64 -81.08 -81.08 -81.08 ... -37.2 -37.2 -37.2\n"
     ]
    }
   ],
   "source": [
    "regridder_u = xe.Regridder(\n",
    "    u_init_bgrid, ugrid, \"bilinear\",\n",
    ")\n",
    "regridder_v = xe.Regridder(\n",
    "    v_init_bgrid, vgrid, \"bilinear\",\n",
    ")\n",
    "\n",
    "regridder_t = xe.Regridder(\n",
    "    init_cond, tgrid, \"bilinear\",\n",
    ")\n",
    "\n",
    "u_on_c = regridder_u(u_init_bgrid)\n",
    "\n",
    "print(u_on_c.coords)\n",
    "\n",
    "u_on_c = u_on_c.rename({\"lon\": \"xq\", \"lat\": \"yh\", \"nyp\": \"ny\"})\n",
    "print(u_on_c.coords)"
   ]
  },
  {
   "cell_type": "code",
   "execution_count": null,
   "id": "ae710350-9098-46f8-aec8-8218f842c50d",
   "metadata": {},
   "outputs": [],
   "source": []
  },
  {
   "cell_type": "code",
   "execution_count": 20,
   "id": "00d2ae3e-ea21-4e05-a3b4-4d89e06ef1b3",
   "metadata": {
    "tags": []
   },
   "outputs": [],
   "source": [
    "u_on_c.name = \"u\"\n",
    "## Give attributes back\n",
    "u_on_c.attrs = u_init_bgrid.attrs \n",
    "u_on_c.xq.attrs = u_init_bgrid.lon.attrs\n",
    "u_on_c.yh.attrs = u_init_bgrid.lat.attrs\n",
    "u_on_c.st_ocean.attrs = u_init_bgrid.st_ocean.attrs\n",
    "\n",
    "v_on_c = regridder_v(v_init_bgrid)\n",
    "v_on_c = v_on_c.rename({\"lon\": \"xh\", \"lat\": \"yq\", \"nxp\": \"nx\"})\n",
    "v_on_c.name = \"v\"\n",
    "## Give attributes back\n",
    "v_on_c.attrs = v_init_bgrid.attrs \n",
    "v_on_c.xh.attrs = v_init_bgrid.lon.attrs\n",
    "v_on_c.yq.attrs = v_init_bgrid.lat.attrs\n",
    "v_on_c.st_ocean.attrs = v_init_bgrid.st_ocean.attrs\n",
    "\n",
    "vel_init_cgrid = xr.merge((u_on_c, v_on_c),)\n",
    "vel_init_cgrid.st_ocean.attrs[\"axis\"] = \"Z\"\n",
    "\n",
    "vel_init_cgrid.fillna(0).drop_vars(\"time\").to_netcdf(\n",
    "    path + \"forcing/init_vel_cgrid.nc\",\n",
    "    mode = \"w\",\n",
    "    encoding={\n",
    "        \"u\": {\"_FillValue\": netCDF4.default_fillvals[\"f4\"]},\n",
    "        \"v\": {\"_FillValue\": netCDF4.default_fillvals[\"f4\"]}        \n",
    "    },\n",
    ")\n",
    "\n",
    "\n",
    "## regrid tracers\n",
    "init_cond_rg = regridder_t(init_cond)\n",
    "init_cond_rg = init_cond_rg.rename({\"lon\": \"xt_ocean\", \"lat\": \"yt_ocean\"})\n",
    "## Give attributes back\n",
    "init_cond_rg.attrs = init_cond.attrs \n",
    "init_cond_rg.xt_ocean.attrs = init_cond.lon.attrs\n",
    "init_cond_rg.yt_ocean.attrs = init_cond.lat.attrs\n",
    "init_cond_rg.st_ocean.attrs = init_cond.st_ocean.attrs\n",
    "\n",
    "init_cond_rg.to_netcdf(\n",
    "    path + \"forcing/init_cond.nc\",\n",
    "    mode = \"w\",\n",
    "    encoding = {'xt_ocean': {'_FillValue': None},\n",
    "                'yt_ocean': {'_FillValue': None},\n",
    "                \"st_ocean\": {\"_FillValue\": None},\n",
    "                'temp': {'_FillValue': -1e20,'missing_value': -1e20},\n",
    "                'salt': {'_FillValue': -1e20,'missing_value': -1e20}\n",
    "                },\n",
    ")\n",
    "\n",
    "\n",
    "## regrid eta\n",
    "init_eta_rg = regridder_t(init_eta.eta_t)\n",
    "init_eta_rg = init_eta_rg.rename({\"lon\": \"xt_ocean\", \"lat\": \"yt_ocean\"})\n",
    "\n",
    "## Give attributes back\n",
    "init_eta_rg.attrs = init_eta.attrs \n",
    "init_eta_rg.xt_ocean.attrs = init_eta.lon.attrs\n",
    "init_eta_rg.yt_ocean.attrs = init_eta.lat.attrs\n",
    "\n",
    "init_eta_rg.name = \"eta_t\"\n",
    "\n",
    "init_eta_rg.drop_vars(\"time\").to_netcdf(\n",
    "    path + \"forcing/init_eta.nc\",\n",
    "    mode = \"w\",\n",
    "    encoding = {'xt_ocean': {'_FillValue': None},\n",
    "                'yt_ocean': {'_FillValue': None},\n",
    "                'eta_t':{'_FillValue':None}\n",
    "                },\n",
    ")"
   ]
  },
  {
   "cell_type": "markdown",
   "id": "48aca09c-7ba0-497e-90a6-8a744a62b322",
   "metadata": {},
   "source": [
    "## 3 Get the topography, and cut out using the indices from hgrid\n",
    "\n",
    "For now, this step assumes that we're just cutting the hgrid and topo from the same mom5 experiment. This means that the indices for cutting out the hgrid can be used to cut out the topo and runoff. If resolution changes, hgrid and topo will generated in some other way. Could also interpolate a topography file the same way as initial conditions above"
   ]
  },
  {
   "cell_type": "code",
   "execution_count": 21,
   "id": "00fcc4cd-8491-42f2-b52a-7435d76ba847",
   "metadata": {},
   "outputs": [],
   "source": [
    "topog = xr.open_dataset(\"/g/data/ik11/inputs/access-om2/input_08022019/mom_025deg/topog.nc\")#.rename({\"xx\":\"nx\",\"yy\":\"ny\"})\n",
    "topog = topog.expand_dims({'ntiles':1})\n",
    "\n",
    "x_indices_centre = x_indices_hgrid //2    ## To go from the hgrid's indices (which refer to cell edges) to cell centres, we just need to //2. \n",
    "y_indices_centre = y_indices_hgrid //2    ## For cell corners, we'd need to go hgrid //2 for start of slice, //2 + 1 for end of slice\n",
    "\n",
    "encoding = {\"depth\":{'_FillValue': None}} \n",
    "\n",
    "\n",
    "topog.isel(nx = slice(x_indices_centre[0],x_indices_centre[1]) , ny = slice(y_indices_centre[0],y_indices_centre[1])).to_netcdf(path + \"topog.nc\",mode = \"w\",encoding = encoding)\n",
    "\n"
   ]
  },
  {
   "cell_type": "code",
   "execution_count": 22,
   "id": "0e9aa3f3-98fd-4b30-b0c8-470f4511e7bb",
   "metadata": {},
   "outputs": [],
   "source": [
    "topog.isel(nx = slice(x_indices_centre[0],x_indices_centre[1]) , ny = slice(y_indices_centre[0],y_indices_centre[1])).to_netcdf(path + \"topog.nc\",mode = \"w\",encoding = encoding)"
   ]
  },
  {
   "cell_type": "markdown",
   "id": "b74918e1-2492-4672-9f57-d001f753e12f",
   "metadata": {},
   "source": [
    "## 4. Use the c executables from mom5 tools to construct the mosaic and mask tables"
   ]
  },
  {
   "cell_type": "code",
   "execution_count": 23,
   "id": "b5093ede-f680-49a8-a20f-0d6fbf982f59",
   "metadata": {},
   "outputs": [
    {
     "name": "stdout",
     "output_type": "stream",
     "text": [
      "NOTE from make_solo_mosaic: there are 1 contacts (align-contact)\n",
      "congradulation: You have successfully run make_solo_mosaic\n",
      "MAKE SOLO MOSAIC\n",
      "CompletedProcess(args=['/g/data/v45/pas561/mom_code/mom5/tools/make_solo_mosaic', '--num_tiles', '1', '--dir', '/g/data/v45/pas561/mom_code/mom5/tools/', '--mosaic_name', 'ocean_mosaic', '--tile_file', 'ocean_hgrid.nc'], returncode=0)\n"
     ]
    }
   ],
   "source": [
    "args = \"--num_tiles 1 --dir /g/data/v45/pas561/mom_code/mom5/tools/ --mosaic_name ocean_mosaic --tile_file ocean_hgrid.nc\".split(\" \")\n",
    "\n",
    "print(\"MAKE SOLO MOSAIC\",subprocess.run([toolpath + \"make_solo_mosaic\"] + args,cwd = path),sep = \"\\n\")"
   ]
  },
  {
   "cell_type": "code",
   "execution_count": 26,
   "id": "b7a91246-99ec-46d5-99e3-4e8084a1ae2c",
   "metadata": {},
   "outputs": [
    {
     "data": {
      "text/plain": [
       "range(1077, 1082)"
      ]
     },
     "execution_count": 26,
     "metadata": {},
     "output_type": "execute_result"
    },
    {
     "name": "stderr",
     "output_type": "stream",
     "text": [
      "2022-11-11 10:32:11,720 - distributed.nanny - WARNING - Restarting worker\n",
      "2022-11-11 10:32:11,941 - distributed.nanny - WARNING - Restarting worker\n",
      "2022-11-11 10:32:11,952 - distributed.nanny - WARNING - Restarting worker\n",
      "2022-11-11 10:32:12,065 - distributed.nanny - WARNING - Restarting worker\n",
      "2022-11-11 10:32:12,226 - distributed.nanny - WARNING - Restarting worker\n",
      "2022-11-11 10:32:12,228 - distributed.nanny - WARNING - Restarting worker\n",
      "2022-11-11 10:32:12,401 - distributed.nanny - WARNING - Restarting worker\n",
      "2022-11-11 10:32:12,404 - distributed.nanny - WARNING - Restarting worker\n",
      "2022-11-11 10:32:12,616 - distributed.nanny - WARNING - Restarting worker\n",
      "2022-11-11 10:32:12,619 - distributed.nanny - WARNING - Restarting worker\n",
      "2022-11-11 10:32:13,409 - distributed.nanny - WARNING - Restarting worker\n",
      "2022-11-11 10:32:13,410 - distributed.nanny - WARNING - Restarting worker\n",
      "2022-11-11 10:32:13,493 - distributed.nanny - WARNING - Restarting worker\n",
      "2022-11-11 10:32:13,507 - distributed.nanny - WARNING - Restarting worker\n"
     ]
    }
   ],
   "source": [
    "t = range(1077, 1082)\n",
    "t"
   ]
  },
  {
   "cell_type": "code",
   "execution_count": 24,
   "id": "b56b1967-fbf4-42df-a006-23d3c37b5218",
   "metadata": {},
   "outputs": [
    {
     "name": "stderr",
     "output_type": "stream",
     "text": [
      "cp: './ocean_mosaic.nc' and 'ocean_mosaic.nc' are the same file\n",
      "cp: './ocean_hgrid.nc' and 'ocean_hgrid.nc' are the same file\n"
     ]
    },
    {
     "name": "stdout",
     "output_type": "stream",
     "text": [
      "cp ./ocean_hgrid.nc ocean_hgrid.nc \n",
      "\n",
      "NOTE from make_coupler_mosaic: the ocean land/sea mask will be determined by field depth from file topog.nc\n",
      "mosaic_file is grid_spec.nc\n",
      "\n",
      "***** Congratulation! You have successfully run make_quick_mosaic\n",
      "QUICK MOSAIC\n",
      "CompletedProcess(args=['/g/data/v45/pas561/mom_code/mom5/tools/make_quick_mosaic', '--input_mosaic', 'ocean_mosaic.nc', '--mosaic_name', 'grid_spec', '--ocean_topog', 'topog.nc'], returncode=0)\n"
     ]
    }
   ],
   "source": [
    "args = \"--input_mosaic ocean_mosaic.nc --mosaic_name grid_spec --ocean_topog topog.nc\".split(\" \")\n",
    "\n",
    "print(\"QUICK MOSAIC\" , subprocess.run([toolpath + \"make_quick_mosaic\"] + args,cwd = path),sep = \"\\n\")"
   ]
  },
  {
   "cell_type": "code",
   "execution_count": 52,
   "id": "be1d9c5e-22c4-4b19-9418-67a4296b866a",
   "metadata": {},
   "outputs": [
    {
     "name": "stdout",
     "output_type": "stream",
     "text": [
      "\n",
      " ===>NOTE from check_mask: when layout is specified, min_pe and max_pe is set to layout(1)*layout(2)=1056\n",
      "\n",
      " ===>NOTE from check_mask: Below is the list of command line arguments.\n",
      "\n",
      "grid_file = ocean_mosaic.nc\n",
      "topog_file = topog.nc\n",
      "min_pe = 1056\n",
      "max_pe = 1056\n",
      "layout = 48, 22\n",
      "halo = 1\n",
      "sea_level = 0\n",
      "show_valid_only is not set\n",
      "nobc = 0\n",
      "\n",
      " ===>NOTE from check_mask: End of command line arguments.\n",
      "\n",
      " ===>NOTE from check_mask: the grid file is version 2 (mosaic grid) grid which contains field gridfiles\n",
      "\n",
      "==>NOTE from get_boundary_type: x_boundary_type is solid_walls\n",
      "\n",
      "==>NOTE from get_boundary_type: y_boundary_type is fold_north_edge\n",
      "\n",
      "==>NOTE from check_mask: Checking for possible masking:\n",
      "==>NOTE from check_mask: Assume 1 halo rows\n",
      "==>NOTE from check_mask: Total domain size is 1440, 1080\n",
      "\n",
      "_______________________________________________________________________\n",
      "\n",
      "NOTE from check_mask: The following is for using model source code with version older than siena_201207,\n",
      "Possible setting to mask out all-land points region, for use in coupler_nmlTotal number of domains = 1056\n",
      "Number of tasks (excluded all-land region) to be used is 836\n",
      "Number of regions to be masked out = 220\n",
      "The layout is 48, 22\n",
      "Masked and used tasks, 1: used, 0: masked\n",
      "001111111111111111111100001111111111111111111100\n",
      "000011111111111111111000001111111111111111111100\n",
      "000011111111111111111000000011100011111111111000\n",
      "000000111111111111111000000011100111111111111000\n",
      "000000000001111100000000011111111111111111110000\n",
      "000000001111111111110000111111111111111111100000\n",
      "000000011111111111111000111111111111111110000000\n",
      "000000111111111111111000000111111111111101100000\n",
      "000011111111111111111100001111111111111111100000\n",
      "010011111111111111111111111111111111101111111110\n",
      "111111111111111111111111111111111111000000111111\n",
      "111111111111111111111111111111111111111000111111\n",
      "111111111111111111111111111100011111111100111111\n",
      "111111111111111111111111111110111111111101111111\n",
      "111111110111111111111111111101111111111111111111\n",
      "111111111111111111111111111111111111111111111111\n",
      "111111111111111111111111111111111111111111111111\n",
      "111111111111111111111111111111111111111111111111\n",
      "111111111111111111111111111111111111111111111111\n",
      "111111111111111111111111111111111111111111111111\n",
      "000000000011111111111111111101111111110000000000\n",
      "000000000011111111100000000001111110000000000000\n",
      " domain decomposition\n",
      "  30  30  30  30  30  30  30  30  30  30  30  30  30  30  30  30  30  30  30  30  30  30  30  30  30  30  30  30  30  30  30  30  30  30  30  30  30  30  30  30  30  30  30  30  30  30  30  30\n",
      "  50  49  49  49  49  49  49  49  49  49  49  49  49  49  49  49  49  49  49  49  49  50\n",
      " used=836, masked=220, layout=48,22\n",
      " To chose this mask layout please put the following lines in ocean_model_nml and/or ice_model_nml\n",
      " nmask = 220\n",
      "layout = 48, 22\n",
      "mask_list = 1,1,2,1,3,1,4,1,5,1,6,1,7,1,8,1,9,1,10,1,20,1,21,1,22,1,23,1,24,1,25,1,26,1,27,1,28,1,29,1,36,1,37,1,38,1,39,1,40,1,41,1,42,1,43,1,44,1,45,1,46,1,47,1,48,1,1,2,2,2,3,2,4,2,5,2,6,2,7,2,8,2,9,2,10,2,29,2,39,2,40,2,41,2,42,2,43,2,44,2,45,2,46,2,47,2,48,2,9,8,29,8,30,9,41,9,29,10,30,10,31,10,41,10,42,10,40,11,41,11,42,11,37,12,38,12,39,12,40,12,41,12,42,12,1,13,3,13,4,13,38,13,48,13,1,14,2,14,3,14,4,14,23,14,24,14,25,14,26,14,44,14,45,14,46,14,47,14,48,14,1,15,2,15,3,15,4,15,5,15,6,15,22,15,23,15,24,15,25,15,26,15,27,15,41,15,44,15,45,15,46,15,47,15,48,15,1,16,2,16,3,16,4,16,5,16,6,16,7,16,22,16,23,16,24,16,42,16,43,16,44,16,45,16,46,16,47,16,48,16,1,17,2,17,3,17,4,17,5,17,6,17,7,17,8,17,21,17,22,17,23,17,24,17,44,17,45,17,46,17,47,17,48,17,1,18,2,18,3,18,4,18,5,18,6,18,7,18,8,18,9,18,10,18,11,18,17,18,18,18,19,18,20,18,21,18,22,18,23,18,24,18,25,18,45,18,46,18,47,18,48,18,1,19,2,19,3,19,4,19,5,19,6,19,22,19,23,19,24,19,25,19,26,19,27,19,28,19,32,19,33,19,46,19,47,19,48,19,1,20,2,20,3,20,4,20,22,20,23,20,24,20,25,20,26,20,27,20,28,20,32,20,33,20,34,20,46,20,47,20,48,20,1,21,2,21,3,21,4,21,22,21,23,21,24,21,25,21,26,21,47,21,48,21,1,22,2,22,23,22,24,22,25,22,26,22,47,22,48,22\n",
      "\n",
      "\n",
      "_______________________________________________________________________\n",
      "\n",
      "NOTE from check_mask: The following is for using model source code with version siena_201207 or newer,\n",
      "                      specify ocean_model_nml/ice_model_nml/atmos_model_nml/land_model/nml \n",
      "                      variable mask_table with the mask_table created here.\n",
      "                      Also specify the layout variable in each namelist using corresponding layout\n",
      "\n",
      "***** Congratulation! You have successfully run check_mask\n",
      "CHECK MASK CompletedProcess(args=['/g/data/v45/pas561/mom_code/mom5/tools/check_mask', '--grid_file', 'ocean_mosaic.nc', '--ocean_topog', 'topog.nc', '--layout', '48,22', '--halo', '1'], returncode=0)\n"
     ]
    }
   ],
   "source": [
    "## I've set the layout to default to 10x10 cpus # layout should be square so 1080/48 ~= 678/22 = 30\n",
    "\n",
    "args = \"--grid_file ocean_mosaic.nc --ocean_topog topog.nc --layout 48,22 --halo 1\".split(\" \")\n",
    "\n",
    "print(\"CHECK MASK\" , subprocess.run([toolpath + \"check_mask\"] + args,cwd = path))"
   ]
  },
  {
   "cell_type": "markdown",
   "id": "4292a4ba-62af-4ed0-ac97-d8162d4c48e4",
   "metadata": {},
   "source": [
    "# 5. Prepare boundary segments\n",
    "\n",
    "Use modified code from Angus' scripts. This cuts out the relevant boundary fields for the experiment and saves them to memory on the node"
   ]
  },
  {
   "cell_type": "code",
   "execution_count": null,
   "id": "70d70435-655f-40f9-b181-e2537d4fba54",
   "metadata": {
    "tags": []
   },
   "outputs": [],
   "source": [
    "prepare_segments(xextent,yextent)"
   ]
  },
  {
   "cell_type": "markdown",
   "id": "119262c2-e463-42c7-84a5-40887b5c177f",
   "metadata": {},
   "source": [
    "# 6. Brushcut\n",
    "\n",
    "Use Angus' brushcut script to generate the boundary forcing files"
   ]
  },
  {
   "cell_type": "code",
   "execution_count": 3,
   "id": "c1513e07-606b-4a61-9242-ad1223ff60fc",
   "metadata": {
    "tags": []
   },
   "outputs": [
    {
     "name": "stderr",
     "output_type": "stream",
     "text": [
      "/g/data/hh5/public/apps/miniconda3/envs/analysis3-22.01/lib/python3.9/site-packages/xesmf/frontend.py:594: UserWarning: Using dimensions ('yt_ocean', 'xt_ocean') from data variable eta_t as the horizontal dimensions for the regridding.\n",
      "  warnings.warn(\n",
      "/g/data/hh5/public/apps/miniconda3/envs/analysis3-22.01/lib/python3.9/site-packages/xesmf/frontend.py:594: UserWarning: Using dimensions ('yu_ocean', 'xu_ocean') from data variable u as the horizontal dimensions for the regridding.\n",
      "  warnings.warn(\n",
      "/g/data/hh5/public/apps/miniconda3/envs/analysis3-22.01/lib/python3.9/site-packages/xesmf/frontend.py:594: UserWarning: Using dimensions ('yt_ocean', 'xt_ocean') from data variable eta_t as the horizontal dimensions for the regridding.\n",
      "  warnings.warn(\n",
      "/g/data/hh5/public/apps/miniconda3/envs/analysis3-22.01/lib/python3.9/site-packages/xesmf/frontend.py:594: UserWarning: Using dimensions ('yu_ocean', 'xu_ocean') from data variable u as the horizontal dimensions for the regridding.\n",
      "  warnings.warn(\n",
      "/g/data/hh5/public/apps/miniconda3/envs/analysis3-22.01/lib/python3.9/site-packages/xesmf/frontend.py:594: UserWarning: Using dimensions ('yt_ocean', 'xt_ocean') from data variable eta_t as the horizontal dimensions for the regridding.\n",
      "  warnings.warn(\n",
      "/g/data/hh5/public/apps/miniconda3/envs/analysis3-22.01/lib/python3.9/site-packages/xesmf/frontend.py:594: UserWarning: Using dimensions ('yu_ocean', 'xu_ocean') from data variable u as the horizontal dimensions for the regridding.\n",
      "  warnings.warn(\n",
      "/g/data/hh5/public/apps/miniconda3/envs/analysis3-22.01/lib/python3.9/site-packages/xesmf/frontend.py:594: UserWarning: Using dimensions ('yt_ocean', 'xt_ocean') from data variable eta_t as the horizontal dimensions for the regridding.\n",
      "  warnings.warn(\n",
      "/g/data/hh5/public/apps/miniconda3/envs/analysis3-22.01/lib/python3.9/site-packages/xesmf/frontend.py:594: UserWarning: Using dimensions ('yu_ocean', 'xu_ocean') from data variable u as the horizontal dimensions for the regridding.\n",
      "  warnings.warn(\n",
      "2022-09-26 15:23:30,588 - distributed.utils_perf - WARNING - full garbage collections took 16% CPU time recently (threshold: 10%)\n",
      "2022-09-26 15:23:34,937 - distributed.utils_perf - WARNING - full garbage collections took 17% CPU time recently (threshold: 10%)\n",
      "2022-09-26 15:24:20,597 - distributed.utils_perf - WARNING - full garbage collections took 14% CPU time recently (threshold: 10%)\n"
     ]
    }
   ],
   "source": [
    "surface_tracer_vars = [\"temp\", \"salt\"]\n",
    "line_tracer_vars = [\"eta_t\"]\n",
    "surface_velocity_vars = [\"u\", \"v\"]\n",
    "surface_vars = surface_tracer_vars + surface_velocity_vars\n",
    "\n",
    "\n",
    "\n",
    "for seg in enumerate([{\"nyp\": [0]}, {\"nyp\": [-1]}, {\"nxp\": [0]}, {\"nxp\": [-1]}]):\n",
    "    interp_segment(seg,path)"
   ]
  },
  {
   "cell_type": "markdown",
   "id": "77766d70-e946-46cc-ae72-034c5a454f35",
   "metadata": {},
   "source": [
    "# 7. Cut Out and Regrid Runoff\n",
    "\n",
    "Pull out runoff from JRA input, then run Angus' regrid runoff script"
   ]
  },
  {
   "cell_type": "code",
   "execution_count": 3,
   "id": "6b854dac-df66-4717-8359-f231824cad46",
   "metadata": {},
   "outputs": [],
   "source": [
    "## Cut runoff from JRA input\n",
    "\n",
    "runoff_path = \"/g/data/ik11/inputs/JRA-55/RYF/v1-3/RYF.runoff_all.1990_1991.nc\"\n",
    "\n",
    "regrid_runoff(path + \"ocean_mask.nc\",\n",
    "    path + \"hgrid.nc\",\n",
    "    runoff_path,\n",
    "    path + \"runoff_regrid.nc\",\n",
    "    xextent,\n",
    "    yextent)\n",
    "\n"
   ]
  },
  {
   "cell_type": "markdown",
   "id": "9a550522-ffb9-4c86-84ad-1773bd2c7b7f",
   "metadata": {},
   "source": [
    "# 8. Set up files in run directory\n",
    "\n",
    "Copy the default run directory files (MOM_input, config.yaml etc) to the new run directory. This script makes some modifications to match the settings in your experiment, namely the mask table, number of cpus required, experiment name and number of x and y grid points. Currently, if you change the layout from 10,10 you'll need to manually make your changes. Otherwise, your experiment should be ready to run after running all the cells in the notebook"
   ]
  },
  {
   "cell_type": "code",
   "execution_count": 10,
   "id": "2940c39d-5194-42f5-8699-e169d6ebc6c2",
   "metadata": {},
   "outputs": [
    {
     "name": "stderr",
     "output_type": "stream",
     "text": [
      "ln: failed to create symbolic link '/home/149/ab8992/mom6_rundirs/test_domain/inputdir/test_domain': File exists\n"
     ]
    }
   ],
   "source": [
    "subprocess.run(f\"cp default_rundir/* {rundir}\",shell = True)\n",
    "subprocess.run(f\"ln -s {path} {rundir}/inputdir\",shell=True)\n",
    "\n",
    "## Get mask table information\n",
    "ncpus = 100\n",
    "mask_table = None\n",
    "for i in os.listdir(f\"{path}\"):\n",
    "    if \"mask_table\" in i:\n",
    "        mask_table = i\n",
    "        a = mask_table.split(\".\")[1]\n",
    "        b = mask_table.split(\".\")[2].split(\"x\")\n",
    "        ncpus = int(b[0]) * int(b[1]) - int(a)\n",
    "\n",
    "\n",
    "## Modify MOM_input\n",
    "inputfile = open(f\"{rundir}/MOM_input\",'r')\n",
    "lines = inputfile.readlines()\n",
    "inputfile.close()\n",
    "for i in range(len(lines)):\n",
    "    if \"MASKTABLE\" in lines[i]:\n",
    "        if mask_table != None:\n",
    "            lines[i] = f'MASKTABLE = \"{mask_table}\"\\n'\n",
    "        else:\n",
    "            lines[i] = \"# MASKTABLE = no mask table\"\n",
    "    if \"NIGLOBAL\" in lines[i]:\n",
    "        lines[i] = f\"NIGLOBAL = {str(x_indices_centre[1] - x_indices_centre[0])}\\n\"\n",
    "        \n",
    "    if \"NJGLOBAL\" in lines[i]:\n",
    "        lines[i] = f\"NJGLOBAL = {str(y_indices_centre[1] - y_indices_centre[0])}\\n\"\n",
    "        \n",
    "inputfile = open(f\"{rundir}/MOM_input\",'w')\n",
    "\n",
    "inputfile.writelines(lines)\n",
    "inputfile.close()\n",
    "\n",
    "## Modify SIS_input\n",
    "inputfile = open(f\"{rundir}/SIS_input\",'r')\n",
    "lines = inputfile.readlines()\n",
    "inputfile.close()\n",
    "for i in range(len(lines)):\n",
    "    if \"MASKTABLE\" in lines[i]:\n",
    "        lines[i] = f'MASKTABLE = \"{mask_table}\"\\n'\n",
    "    if \"NIGLOBAL\" in lines[i]:\n",
    "        lines[i] = f\"NIGLOBAL = {str(x_indices_centre[1] - x_indices_centre[0])}\\n\"\n",
    "        \n",
    "    if \"NJGLOBAL\" in lines[i]:\n",
    "        lines[i] = f\"NJGLOBAL = {str(y_indices_centre[1] - y_indices_centre[0])}\\n\"\n",
    "        \n",
    "inputfile = open(f\"{rundir}/SIS_input\",'w')\n",
    "inputfile.writelines(lines)\n",
    "inputfile.close()\n",
    "\n",
    "## Modify config.yaml\n",
    "inputfile = open(f\"{rundir}/config.yaml\",'r')\n",
    "lines = inputfile.readlines()\n",
    "inputfile.close()\n",
    "for i in range(len(lines)):\n",
    "    if \"ncpus\" in lines[i]:\n",
    "        lines[i] = f'ncpus: \"{str(ncpus)}\"\\n'\n",
    "    if \"jobname\" in lines[i]:\n",
    "        lines[i] = f\"jobname: mom6_{expt_name}\\n\"\n",
    "        \n",
    "    if \"input:\" in lines[i]:\n",
    "        lines[i + 1] = f\"    - {path}\\n\"\n",
    "        \n",
    "inputfile = open(f\"{rundir}/config.yaml\",'w')\n",
    "inputfile.writelines(lines)\n",
    "inputfile.close()"
   ]
  },
  {
   "cell_type": "markdown",
   "id": "db06a5f6",
   "metadata": {},
   "source": [
    "# 9. Copy the vcoord.nc file\n",
    "\n",
    "For now just copy the vertical coordinate file from an existing run. This could be generated instead to suit your needs"
   ]
  },
  {
   "cell_type": "code",
   "execution_count": null,
   "id": "1fd1a3c6",
   "metadata": {},
   "outputs": [],
   "source": [
    "subprocess.run(f\"cp vcoord.nc {path}\",shell=True)\n"
   ]
  },
  {
   "cell_type": "markdown",
   "id": "b7278ac0",
   "metadata": {},
   "source": [
    "# (Optional) Add Tidal Forcing at Boudary\n",
    "Optionally, you can also read in and brushcut the TPXO tidal phase / amplitude dataset to add tidal forcing at the open boundaries. This is done with some tools originally written for the North West Atlantic 1/25 degree experiment (https://github.com/jsimkins2/nwa25/tree/main/setup). You'll need to set the MOM_input file in a similar way to /home/149/ab8992/mom6_rundirs/tasman-tides-test/MOM_input \n"
   ]
  },
  {
   "cell_type": "code",
   "execution_count": null,
   "id": "d9621190",
   "metadata": {},
   "outputs": [],
   "source": [
    "# \"\"\"\n",
    "# constituents in TPXO9:\n",
    "# con =\n",
    "# \"m2  \",  0\n",
    "# \"s2  \",  1\n",
    "# \"n2  \",  2\n",
    "# \"k2  \",  3\n",
    "# \"k1  \",  4\n",
    "# \"o1  \",  5\n",
    "# \"p1  \",  6\n",
    "# \"q1  \",  7\n",
    "# \"mm  \",  8\n",
    "# \"mf  \",  9\n",
    "# \"m4  \", 10\n",
    "# \"mn4 \", 11\n",
    "# \"ms4 \", 12\n",
    "# \"2n2 \", 13\n",
    "# \"s1  \"  14\n",
    "# \"\"\"\n",
    "# Use these constituents:\n",
    "# (MOM6 does not currently support m4, mn4, ms4, 2n2, or s1.)\n",
    "# constituents = range(0, 10)\n",
    "\n",
    "constituents = [0]\n",
    "\n",
    "\n",
    "# Subset TPXO9 to a region roughly around the NWA25 domain\n",
    "# for computational efficiency.\n",
    "horizontal_subset = dict(ny=slice(500,1100), nx=slice(1500,None))\n",
    "\n",
    "# Path to tpxo9.v1 data\n",
    "tpxo_dir = '/g/data/nm03/TPXO'\n",
    "\n",
    "# Save output here\n",
    "output_dir = path + \"/forcing\"\n",
    "\n",
    "# Setup NWA boundaries\n",
    "hgrid = xarray.open_dataset(path + '/hgrid.nc')\n",
    "# segments taken from nwa25_obc.py\n",
    "segments = [\n",
    "    Segment(1, 'south', hgrid, output_dir=output_dir),\n",
    "    Segment(2, 'north', hgrid, output_dir=output_dir),\n",
    "    Segment(3, 'west', hgrid, output_dir=output_dir),\n",
    "    Segment(4, 'east', hgrid, output_dir=output_dir)\n",
    "]\n",
    "\n",
    "write_tpxo(constituents, tpxo_dir, segments, horizontal_subset)"
   ]
  },
  {
   "cell_type": "markdown",
   "id": "5946ed9b-95d3-4e9f-a155-7d4bb6d35e83",
   "metadata": {},
   "source": [
    "# Read in to debug"
   ]
  },
  {
   "cell_type": "code",
   "execution_count": null,
   "id": "57dda433-ad85-4ae2-a4e5-98ed9ee005f4",
   "metadata": {},
   "outputs": [],
   "source": [
    "init_vel = xr.open_dataset(path + \"forcing/init_vel_cgrid.nc\")\n",
    "land_mask = xr.open_dataset(path + \"land_mask.nc\")\n",
    "topog = xr.open_dataset(path + \"topog.nc\")\n",
    "init_eta = xr.open_dataset(path + \"forcing/init_eta.nc\")\n",
    "\n",
    "eacpath = \"/g/data/x77/ahg157/inputs/mom6/eac-01/\"\n",
    "\n",
    "eac_init_vel = xr.open_dataset(eacpath + \"forcing/init_vel_cgrid.nc\")\n",
    "eac_init_eta = xr.open_dataset(eacpath + \"forcing/init_eta.nc\")\n",
    "\n",
    "eac_land_mask = xr.open_dataset(eacpath + \"land_mask.nc\")\n",
    "\n",
    "\n"
   ]
  }
 ],
 "metadata": {
  "kernelspec": {
   "display_name": "Python 3 (ipykernel)",
   "language": "python",
   "name": "python3"
  },
  "language_info": {
   "codemirror_mode": {
    "name": "ipython",
    "version": 3
   },
   "file_extension": ".py",
   "mimetype": "text/x-python",
   "name": "python",
   "nbconvert_exporter": "python",
   "pygments_lexer": "ipython3",
   "version": "3.9.12"
  },
  "vscode": {
   "interpreter": {
    "hash": "31f2aee4e71d21fbe5cf8b01ff0e069b9275f58929596ceb00d14d90e3e16cd6"
   }
  }
 },
 "nbformat": 4,
 "nbformat_minor": 5
}
